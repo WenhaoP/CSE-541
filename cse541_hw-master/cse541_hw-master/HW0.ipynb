{
 "cells": [
  {
   "cell_type": "markdown",
   "metadata": {},
   "source": [
    "## A.1 probability of disease\n",
    "- test accuracy and specificity is 0.99\n",
    "- population disease rate is 1/10,000 = 0.0001\n",
    "\n",
    "Bayes theorem: $P(A|B) = \\frac{P(B|A)P(A)}{P(B)}$"
   ]
  },
  {
   "cell_type": "markdown",
   "metadata": {},
   "source": [
    "- $P(A|B)$ is the probability of having the disease given you tested positive\n",
    "- $P(A)$ is the unconditional disease probability\n",
    "- $P(B)$ is the unconditional probability of positive tests\n",
    "- $P(B|A)$ is the probability of testing poitive given you have it, eg the accuracy"
   ]
  },
  {
   "cell_type": "code",
   "execution_count": 1,
   "metadata": {},
   "outputs": [],
   "source": [
    "Pa = 1/10000\n",
    "Pba = 0.99\n",
    "Pb = (Pa*Pba) + ((1-Pa)*(1-Pba))"
   ]
  },
  {
   "cell_type": "code",
   "execution_count": 2,
   "metadata": {},
   "outputs": [
    {
     "name": "stdout",
     "output_type": "stream",
     "text": [
      "0.009803921568627442\n"
     ]
    }
   ],
   "source": [
    "Pab = Pba*Pa/Pb\n",
    "print(Pab)"
   ]
  },
  {
   "cell_type": "markdown",
   "metadata": {},
   "source": [
    "## A.2\n",
    "\n",
    "- two random variables X, Y\n",
    "- Covariance:\n",
    "\n",
    "$$Cov(X,Y) = \\mathbb{E}[(X-\\mathbb{E}(X))(Y-\\mathbb{E}(Y))]$$"
   ]
  },
  {
   "cell_type": "markdown",
   "metadata": {},
   "source": [
    "### a)\n",
    "\n",
    "$$\\mathbb{E}(Y|X=x) = x$$\n",
    "\n",
    "$Cov(X,Y)$?"
   ]
  },
  {
   "cell_type": "markdown",
   "metadata": {},
   "source": [
    "First we have the alternative definition of covariance, just with some algebra:\n",
    "\n",
    "$$Cov(X,Y)=\\mathbb{E}(XY)-\\mathbb{E}(X)\\mathbb{E}(Y)$$\n",
    "\n",
    "Use the definition of expected value to solve for $\\mathbb{E}(XY)$:\n",
    "\n",
    "$$\\mathbb{E}(XY)=\\int\\int xy\\cdot f_{XY}(x,y)dxdy$$\n",
    "\n",
    "Applying our knowledge of the conditional expected value and substituting in the provided relationship:\n",
    "\n",
    "$$\\mathbb{E}(XY)=\\int x\\cdot f_X(x)\\int y\\cdot f_{Y|X}(y|x)dydx = \\int x^2 f_X(x)dx = \\mathbb{E}(X^2)$$\n",
    "\n",
    "A similar derivation for $\\mathbb{E}(Y)$:\n",
    "\n",
    "$$\\mathbb{E}(Y) = \\int y\\cdot f_Y(y)dy = \\int y \\int f_{XY}(x,y) dxdy$$\n",
    "\n",
    "After substitution:\n",
    "\n",
    "$$=\\int f_X(x)\\int f_{Y|X}(y|x)\\cdot ydyd = \\int x\\cdot f_X(x)dx = \\mathbb{E}(X)$$\n",
    "\n",
    "> Thus we have $Cov(X,Y) = \\mathbb{E}(X^2)-\\mathbb{E}(X)^2 = \\mathbb{E}((X-\\mathbb{E}(X))^2)$"
   ]
  },
  {
   "cell_type": "markdown",
   "metadata": {},
   "source": [
    "### b)\n",
    "\n",
    "Show that if X, Y independant, the covariance is 0:\n",
    "\n",
    "$$Cov(X,Y)=\\mathbb{E}(XY)-\\mathbb{E}(X)\\mathbb{E}(Y)$$\n",
    "\n",
    "If X and Y are independant, then $\\mathbb{E}(XY) = \\mathbb{E}(X)\\mathbb{E}(Y)$\n",
    "\n",
    "> $Cov(X,Y) = 0$"
   ]
  },
  {
   "cell_type": "markdown",
   "metadata": {},
   "source": [
    "## A.3\n",
    "\n",
    "- two random variables X, Y, with PDFs f, g\n",
    "- Z = X + Y with PDF h"
   ]
  },
  {
   "cell_type": "markdown",
   "metadata": {},
   "source": [
    "### a)\n",
    "\n",
    "Prove \n",
    "$$h(z) = \\int f(x)g(z-x)dx$$"
   ]
  },
  {
   "cell_type": "markdown",
   "metadata": {},
   "source": [
    "The CDF of Z eg probability of Z < z: $H(z)$\n",
    "\n",
    "Where $x + y < z$ with the joint PDFs f and g\n",
    "\n",
    "$$H(z)= \\int\\int^{z-x}f(x)g(y)dydx$$\n",
    "\n",
    "Make the substitution $y = v-x$ in order to shift the integrand limits. $dy = dv$ as x is treated as a constant.\n",
    "\n",
    "$$H(z)= \\int\\int^{z}f(x)g(v-x)dvdx$$"
   ]
  },
  {
   "cell_type": "markdown",
   "metadata": {},
   "source": [
    "We can now easily reorder the integral as the limits are independant of eachother. The fundemental theorem of calculus then yields us:\n",
    "\n",
    "> $$h(z) = \\frac{dH(z)}{dz} = \\int f(x)g(z-x)dx$$"
   ]
  },
  {
   "cell_type": "markdown",
   "metadata": {},
   "source": [
    "### b)\n",
    "\n",
    "for $f(x) = g(y) = 1$ in $[0,1)$ and 0 else:\n",
    "\n",
    "$Z = X + Y \\in [0,2) $, 0 elsewhere\n",
    "\n",
    "In between, we must satisfy two constraints: $0<x<1$ and $z>x>z-1$. These constraints are always satisfied when $0<x<z$ for $z\\in (0,1)$ and when $z-1<x<1$ for $z\\in (1,2)$ Yielding two discontinuous integrals:\n",
    "\n",
    "$$h(z) = \\int_0^z dx, 0<z<1$$\n",
    "$$h(z) = \\int_{z-1}^1 dx, 1<z<2$$\n",
    "\n",
    "Finally:\n",
    "\n",
    "> $h(z)=$\n",
    "> $$z, 0<z<1$$\n",
    "> $$2-z, 1<z<2$$\n",
    "> $$0, otherwise$$"
   ]
  },
  {
   "cell_type": "markdown",
   "metadata": {},
   "source": [
    "## A.4"
   ]
  },
  {
   "cell_type": "markdown",
   "metadata": {},
   "source": [
    "Assuming $X \\sim \\mathcal{N}(\\mu,\\sigma^2)$ and $Y \\sim \\mathcal{N}(0,1) = aX+b$ where $a,b\\in\\mathbb{R}$\n",
    "\n",
    "What is a, b?"
   ]
  },
  {
   "cell_type": "markdown",
   "metadata": {},
   "source": [
    "System of equations around the identity of mean and variance:\n",
    "\n",
    "1. $\\mu=\\mathbb{E}(X);0=\\mathbb{E}(Y)=\\mathbb{E}(aX+b)$\n",
    "$$0=\\mathbb{E}(X)a+b$$\n",
    "$$0=\\mu a+b$$\n",
    "\n",
    "2. $\\sigma^2=Var(X); 1=Var(Y)=Var(aX+b)$\n",
    "$$1=a^2Var(X)$$\n",
    "$$\\sigma^2=1/a^2$$\n",
    "\n",
    "> $a=1\\sigma;b=-\\mu/\\sigma$"
   ]
  },
  {
   "cell_type": "markdown",
   "metadata": {},
   "source": [
    "## A.5\n",
    "\n",
    "$X_1,...,X_n$ are independant variables each with $\\mathbb{E}(X_i)=\\mu$ and $Var(X_i) = \\sigma^2$\n",
    "\n",
    "For $\\hat{\\mu}_n:=\\frac{1}{n}\\Sigma X_i$, what is the mean and variance of $\\bar{\\mu}:=\\sqrt{n}(\\hat{\\mu}_n-\\mu)$\n",
    "\n",
    "$$\\mathbb{E}(\\bar{\\mu}) = \\sqrt{n}[\\mathbb{E}(\\hat{\\mu}_n)-\\mu]$$\n",
    "\n",
    "$$\\mathbb{E}(\\hat{\\mu}_n) = \\mathbb{E}(\\frac{1}{n}\\Sigma X_i) = \\frac{1}{n}\\bigg[\\int x_1f(x_1)dx_1 +, ..., + \\int x_nf(x_1)dx_n \\bigg]$$"
   ]
  },
  {
   "cell_type": "markdown",
   "metadata": {},
   "source": [
    "For normal distributions $f$\n",
    "\n",
    "We then have\n",
    "$$\\mathbb{E}(\\hat{\\mu}_n)=\\frac{1}{n}(n\\mu)=\\mu$$\n",
    "> $\\mathbb{E}(\\bar{\\mu}) = 0$"
   ]
  },
  {
   "cell_type": "markdown",
   "metadata": {},
   "source": [
    "For the variance:\n",
    "$$Var(\\bar{\\mu}) = Var(\\sqrt{n}(\\hat{\\mu}_n-\\mu))$$\n",
    "$$=nVar(\\frac{1}{n}\\Sigma X_i)$$\n",
    "Given that these random variables are independant, we have\n",
    "$$=\\frac{1}{n}[Var(X_1)+,...,+Var(X_n)]$$\n",
    "> $Var(\\bar{\\mu}) = \\sigma^2$"
   ]
  },
  {
   "cell_type": "markdown",
   "metadata": {},
   "source": [
    "## A.6\n",
    "\n",
    "For a boolean event A, define $\\mathbb{1}\\{A\\}$ with CDF $F(x)=\\mathbb{E}[\\mathbb{1}\\{X<x\\}]$\n",
    "\n",
    "If $X_1,...,X_n$ are iid with CDF $F(x)$, then define $\\hat{F}_n(x)=\\frac{1}{n}\\Sigma_i^n\\mathbb{1}\\{X_i<x\\}$\n",
    "\n",
    "### a)\n",
    "What is $\\mathbb{E}(\\hat{F}_n(x))$?\n",
    "\n",
    "$$\\mathbb{E}(\\hat{F}_n(x)) = \\mathbb{E}(\\frac{1}{n}\\Sigma_i^n\\mathbb{1}\\{X_i<x\\})$$\n",
    "$$=\\frac{1}{n}\\Sigma_i^n\\mathbb{E}(\\mathbb{1}\\{X_i<x\\})$$\n",
    "> $$=\\frac{1}{n}\\Sigma_i^n F(x) = F(x)$$"
   ]
  },
  {
   "cell_type": "markdown",
   "metadata": {},
   "source": [
    "### b)\n",
    "What is $Var(\\hat{F}_n(x))$?\n",
    "\n",
    "The definition of the variance and what we just proved in part a:\n",
    "\n",
    "$$Var(\\hat{F}_n(x)) = \\mathbb{E}(\\hat{F}_n(x)^2) - \\mathbb{E}(\\hat{F}_n(x))^2 = \\mathbb{E}(\\hat{F}_n(x)^2) - F(x)^2$$\n",
    "\n",
    "Summation laws yields:\n",
    "\n",
    "$$=\\frac{1}{n^2}\\mathbb{E}\\bigg[\\Sigma_i^n\\Sigma_j^n\\mathbb{1}\\{X_i<x\\}\\mathbb{1}\\{X_j<x\\}\\bigg] - F(x)^2$$\n",
    "\n",
    "Noting that $\\mathbb{1}\\{X_i<x\\}^2 = \\mathbb{1}\\{X_i<x\\}$:\n",
    "\n",
    "$$=\\frac{1}{n^2}\\mathbb{E}\\bigg[\\Sigma_i^n \\mathbb{1}\\{X_i<x\\} + 2\\Sigma_i^n\\Sigma_{j<i}^n\\mathbb{1}\\{X_i<x\\}\\mathbb{1}\\{X_j<x\\}\\bigg] - F(x)^2$$\n",
    "\n",
    "Expected value of a summation, and noting the independance of $\\mathbb{1}\\{X_i<x\\}$ and $\\mathbb{1}\\{X_j<x\\}$\n",
    "\n",
    "$$=\\frac{1}{n^2}\\bigg[\\Sigma_i^n \\mathbb{E}(\\mathbb{1}\\{X_i<x\\}) + 2\\Sigma_i^n\\Sigma_{j<i}^n\\mathbb{E}(\\mathbb{1}\\{X_i<x\\})\\mathbb{E}(\\mathbb{1}\\{X_j<x\\})\\bigg] - F(x)^2$$\n",
    "\n",
    "$$=\\frac{1}{n^2}\\bigg[\\Sigma_i^n F(x) + 2\\Sigma_i^n\\Sigma_{j<i}^n F(x)^2\\bigg] - F(x)^2$$\n",
    "$$=\\frac{1}{n^2}\\bigg[n F(x) + 2(\\frac{n^2-n}{2}) F(x)^2\\bigg] - F(x)^2$$\n",
    ">$$\\frac{F(x)+(n-1)F(x)^2}{n}-F(x)^2 = \\frac{F(x)[1-F(x)]}{n}$$\n",
    "\n",
    "### c)\n",
    "Prove that $\\frac{F(x)[1-F(x)]}{n}\\leq\\frac{1}{4n}$\n",
    "\n",
    "To find the lower bound, we must determine its minumum value:\n",
    "\n",
    "$$\\frac{\\partial}{\\partial F(x)}\\frac{F(x)[1-F(x)]}{n} = \\frac{1}{n}[1-2F(x)] = 0$$\n",
    "> $$F(x)=0.5; \\frac{0.5[1-0.5]}{n}=\\frac{1}{4n}$$"
   ]
  },
  {
   "cell_type": "markdown",
   "metadata": {},
   "source": [
    "## B.1\n",
    "Let $X_1,...,X_n$ be each uniform on (0,1). If $Y = max(X_1,...,X_n)$, what is $\\mathbb{E}(Y)$?"
   ]
  },
  {
   "cell_type": "markdown",
   "metadata": {},
   "source": [
    "The cummulative distribution function of $X_i$ is $F(x_i)=\\int_0^{x_i}1dz = x_i$ \n",
    "\n",
    "The cummulative distribution function of Y is (given iid) then $G(y) = \\Pi_i^nF_i(y)=y^n$, with PDF $g(y) = ny^{n-1}$\n",
    "\n",
    "So we have\n",
    "> $$\\mathbb{E}(Y) = \\int_0^1 y ny^{n-1}dy =\\frac{ny^{n+1}}{(n+1)} |^1_0 = \\frac{n}{n+1}$$"
   ]
  },
  {
   "cell_type": "code",
   "execution_count": 98,
   "metadata": {},
   "outputs": [],
   "source": [
    "def func(a, b):\n",
    "    try:\n",
    "        c = a + b\n",
    "        if c < 20:\n",
    "            raise ValueError('bad numbers')\n",
    "    except:\n",
    "        return a, b\n",
    "    return c\n",
    "    "
   ]
  },
  {
   "cell_type": "code",
   "execution_count": 100,
   "metadata": {},
   "outputs": [],
   "source": [
    "a, b = func(5, 10)"
   ]
  },
  {
   "cell_type": "code",
   "execution_count": 97,
   "metadata": {},
   "outputs": [],
   "source": [
    "try:\n",
    "    func(5, 10)\n",
    "except:\n",
    "    pass"
   ]
  },
  {
   "cell_type": "code",
   "execution_count": 101,
   "metadata": {},
   "outputs": [
    {
     "data": {
      "text/plain": [
       "5"
      ]
     },
     "execution_count": 101,
     "metadata": {},
     "output_type": "execute_result"
    }
   ],
   "source": [
    "a"
   ]
  },
  {
   "cell_type": "code",
   "execution_count": null,
   "metadata": {},
   "outputs": [],
   "source": []
  }
 ],
 "metadata": {
  "kernelspec": {
   "display_name": "Python 3",
   "language": "python",
   "name": "python3"
  },
  "language_info": {
   "codemirror_mode": {
    "name": "ipython",
    "version": 3
   },
   "file_extension": ".py",
   "mimetype": "text/x-python",
   "name": "python",
   "nbconvert_exporter": "python",
   "pygments_lexer": "ipython3",
   "version": "3.6.10"
  }
 },
 "nbformat": 4,
 "nbformat_minor": 4
}
