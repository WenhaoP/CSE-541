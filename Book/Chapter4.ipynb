{
 "cells": [
  {
   "cell_type": "markdown",
   "metadata": {},
   "source": [
    "# Chapter 4"
   ]
  },
  {
   "cell_type": "code",
   "execution_count": 1,
   "metadata": {},
   "outputs": [],
   "source": [
    "import numpy as np"
   ]
  },
  {
   "cell_type": "markdown",
   "metadata": {},
   "source": [
    "## 4.8"
   ]
  },
  {
   "cell_type": "code",
   "execution_count": 47,
   "metadata": {},
   "outputs": [],
   "source": [
    "class BernoulliBandit:\n",
    "    # accepts a list of K >= 2 floats, each lying in [0,1]\n",
    "    def __init__ (self, means, seed=541):\n",
    "        self.num_of_arms = len(means)\n",
    "        assert self.num_of_arms >= 2, \"Number of arms must be >= 2!\"\n",
    "\n",
    "        self.arm_means = means\n",
    "        self.best_arm_idx = np.argmax(means)\n",
    "        self.best_arm_mean = np.max(means)\n",
    "        self.seed = seed\n",
    "        self.rng = np.random.default_rng(seed)\n",
    "        self.pulled_arm_history = []\n",
    "        self.pulled_arm_mean_history = []\n",
    "        self.reward_history = []\n",
    "\n",
    "    # Function should return the number of arms\n",
    "    def K(self):\n",
    "        return self.num_of_arms\n",
    "\n",
    "    # Accepts a parameter 0 <= a <= K-1 and returns the\n",
    "    # realisation of random variable X with P(X = 1) being\n",
    "    # the mean of the (a+1) th arm .\n",
    "    def pull(self, a):\n",
    "        pulled_arm_mean = self.arm_means[a]\n",
    "        reward = self.rng.choice([0, 1], p=[1 - pulled_arm_mean, pulled_arm_mean])\n",
    "\n",
    "        self.pulled_arm_history.append(a)\n",
    "        self.pulled_arm_mean_history.append(pulled_arm_mean)\n",
    "        self.reward_history.append(reward)\n",
    "        return reward\n",
    "\n",
    "    # Returns the regret incurred so far.\n",
    "    def regret(self):\n",
    "        random_regret = len(self.reward_history) * self.best_arm_mean - np.sum(self.reward_history)\n",
    "        pseudo_regret = len(self.reward_history) * self.best_arm_mean - np.sum(self.pulled_arm_mean_history)\n",
    "        return (random_regret, pseudo_regret)"
   ]
  },
  {
   "cell_type": "code",
   "execution_count": 17,
   "metadata": {},
   "outputs": [],
   "source": [
    "two_arm = BernoulliBandit([0.3, 0.6])"
   ]
  },
  {
   "cell_type": "code",
   "execution_count": 18,
   "metadata": {},
   "outputs": [
    {
     "data": {
      "text/plain": [
       "2"
      ]
     },
     "execution_count": 18,
     "metadata": {},
     "output_type": "execute_result"
    }
   ],
   "source": [
    "two_arm.K()"
   ]
  },
  {
   "cell_type": "code",
   "execution_count": 38,
   "metadata": {},
   "outputs": [
    {
     "data": {
      "text/plain": [
       "1"
      ]
     },
     "execution_count": 38,
     "metadata": {},
     "output_type": "execute_result"
    }
   ],
   "source": [
    "two_arm.pull(0)"
   ]
  },
  {
   "cell_type": "code",
   "execution_count": 39,
   "metadata": {},
   "outputs": [
    {
     "data": {
      "text/plain": [
       "2.0"
      ]
     },
     "execution_count": 39,
     "metadata": {},
     "output_type": "execute_result"
    }
   ],
   "source": [
    "two_arm.regret()"
   ]
  },
  {
   "cell_type": "markdown",
   "metadata": {},
   "source": [
    "## 4.9"
   ]
  },
  {
   "cell_type": "code",
   "execution_count": 52,
   "metadata": {},
   "outputs": [],
   "source": [
    "def FollowTheLeader(bandit, n, seed=541):\n",
    "    # implement the Follow-the-Leader algorithm by replacing\n",
    "    # the code below that just plays the first arm in every round\n",
    "\n",
    "    rng = np.random.default_rng(seed)\n",
    "    \n",
    "    K = bandit.K()\n",
    "\n",
    "    reward_history = {}\n",
    "\n",
    "    # pull each arm once\n",
    "    for a in range(K):\n",
    "        reward_history[a] = [bandit.pull(a)]\n",
    "\n",
    "    for t in range(K, n):\n",
    "\n",
    "        # find the leader arm \n",
    "        leader = -1\n",
    "        leader_score = -np.inf\n",
    "        for a in range(K):\n",
    "            candidate_score = np.mean(reward_history[a])\n",
    "            if candidate_score == leader_score:\n",
    "                leader = rng.choice([leader, a])\n",
    "            elif candidate_score > leader_score:\n",
    "                leader = a\n",
    "                leader_score = candidate_score\n",
    "\n",
    "        # pull the leader arm\n",
    "        reward_history[leader].append(bandit.pull(leader))"
   ]
  },
  {
   "cell_type": "markdown",
   "metadata": {},
   "source": [
    "## 4.12"
   ]
  },
  {
   "cell_type": "code",
   "execution_count": 53,
   "metadata": {},
   "outputs": [],
   "source": [
    "regret_log = []\n",
    "\n",
    "for i in range(1000):\n",
    "    Bbandit_instance = BernoulliBandit([0.5, 0.6], seed=i)\n",
    "    FollowTheLeader(Bbandit_instance, 100)\n",
    "    regret_log.append(Bbandit_instance.regret()[1]) # extract the pseudo regret"
   ]
  },
  {
   "cell_type": "code",
   "execution_count": 58,
   "metadata": {},
   "outputs": [
    {
     "name": "stderr",
     "output_type": "stream",
     "text": [
      "C:\\Users\\Wenhao\\AppData\\Local\\Temp\\ipykernel_2008\\2490749085.py:5: UserWarning: FigureCanvasAgg is non-interactive, and thus cannot be shown\n",
      "  fig.show()\n"
     ]
    },
    {
     "data": {
      "image/png": "[encoded data removed]",
      "text/plain": [
       "<Figure size 640x480 with 1 Axes>"
      ]
     },
     "metadata": {},
     "output_type": "display_data"
    }
   ],
   "source": [
    "import matplotlib.pyplot as plt\n",
    "\n",
    "fig, ax = plt.subplots()\n",
    "ax.hist(regret_log, bins=20)\n",
    "fig.show()"
   ]
  },
  {
   "cell_type": "markdown",
   "metadata": {},
   "source": [
    "There are many simulations with regrets around 10. This means the algorithm kept picking the suboptimal arm after the initial exploration stage."
   ]
  },
  {
   "cell_type": "markdown",
   "metadata": {},
   "source": [
    "## 4.13"
   ]
  },
  {
   "cell_type": "code",
   "execution_count": 60,
   "metadata": {},
   "outputs": [],
   "source": [
    "avg_regret = []\n",
    "regret_err = []\n",
    "for n in range(100, 1001, 100):\n",
    "    regret_log = []\n",
    "\n",
    "    for i in range(1000):\n",
    "        Bbandit_instance = BernoulliBandit([0.5, 0.6], seed=i)\n",
    "        FollowTheLeader(Bbandit_instance, n)\n",
    "        regret_log.append(Bbandit_instance.regret()[1]) # extract the pseudo regret\n",
    "\n",
    "    avg_regret.append(np.mean(regret_log))\n",
    "    regret_err.append(np.std(regret_log))"
   ]
  },
  {
   "cell_type": "code",
   "execution_count": 61,
   "metadata": {},
   "outputs": [
    {
     "name": "stderr",
     "output_type": "stream",
     "text": [
      "C:\\Users\\Wenhao\\AppData\\Local\\Temp\\ipykernel_2008\\915499089.py:5: UserWarning: FigureCanvasAgg is non-interactive, and thus cannot be shown\n",
      "  fig.show()\n"
     ]
    },
    {
     "data": {
      "image/png": "[encoded data removed]",
      "text/plain": [
       "<Figure size 640x480 with 1 Axes>"
      ]
     },
     "metadata": {},
     "output_type": "display_data"
    }
   ],
   "source": [
    "import matplotlib.pyplot as plt\n",
    "\n",
    "fig, ax = plt.subplots()\n",
    "ax.errorbar(range(100, 1001, 100), avg_regret, yerr=regret_err)\n",
    "fig.show()"
   ]
  },
  {
   "cell_type": "markdown",
   "metadata": {},
   "source": [
    "It's not a good algorithm since the regret grows linearly."
   ]
  }
 ],
 "metadata": {
  "kernelspec": {
   "display_name": "cse-541",
   "language": "python",
   "name": "python3"
  },
  "language_info": {
   "codemirror_mode": {
    "name": "ipython",
    "version": 3
   },
   "file_extension": ".py",
   "mimetype": "text/x-python",
   "name": "python",
   "nbconvert_exporter": "python",
   "pygments_lexer": "ipython3",
   "version": "3.10.14"
  }
 },
 "nbformat": 4,
 "nbformat_minor": 2
}
