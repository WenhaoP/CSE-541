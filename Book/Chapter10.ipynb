{
 "cells": [
  {
   "cell_type": "markdown",
   "metadata": {},
   "source": [
    "# Chapter 10"
   ]
  },
  {
   "cell_type": "markdown",
   "metadata": {},
   "source": [
    "## 10.6"
   ]
  },
  {
   "cell_type": "code",
   "execution_count": 12,
   "metadata": {},
   "outputs": [],
   "source": [
    "import cvxpy as cp\n",
    "import numpy as np\n",
    "import math\n",
    "\n",
    "def UCBAnytime(bandit, n, seed=541):\n",
    "    \"\"\"\n",
    "    Implementation of the asymptotically optimal UCB algorithm (algorithm 6 in Lattimore 2018) for 1/2-subgaussian arms\n",
    "    -----\n",
    "    bandit: the bandit instance\n",
    "    n: time horizon\n",
    "    \"\"\"\n",
    "\n",
    "    rng = np.random.default_rng(seed)\n",
    "    \n",
    "    K = bandit.K()\n",
    "\n",
    "    reward_history = {}\n",
    "\n",
    "    # pull each arm once\n",
    "    arm_UCB = np.zeros(K)\n",
    "    for a in range(K):\n",
    "        reward_history[a] = [bandit.pull(a)]\n",
    "        arm_UCB[a] = np.mean(reward_history[a]) + math.sqrt(math.log(1 + (a + 1) * (math.log(a + 1) ** 2)) / (2 * len(reward_history[a])))\n",
    "\n",
    "    for t in range(K, n):\n",
    "        arm_to_pull = np.argmax(arm_UCB)\n",
    "        reward_history[arm_to_pull].append(bandit.pull(arm_to_pull))\n",
    "        arm_UCB[arm_to_pull] = np.mean(reward_history[arm_to_pull]) + math.sqrt(math.log(1 + (t + 1) * (math.log(t + 1) ** 2)) / (2 * len(reward_history[a])))\n",
    "\n",
    "def KLUCB(bandit, n, seed=541):\n",
    "    \"\"\"\n",
    "    Implementation of the KL-UCB algorithm (algorithm 8 in Lattimore 2018)\n",
    "    -----\n",
    "    bandit: the bandit instance\n",
    "    n: time horizon\n",
    "    \"\"\"\n",
    "\n",
    "    rng = np.random.default_rng(seed)\n",
    "    \n",
    "    K = bandit.K()\n",
    "\n",
    "    reward_history = {}\n",
    "\n",
    "    # pull each arm once\n",
    "    arm_UCB = np.zeros(K)\n",
    "    for a in range(K):\n",
    "        reward_history[a] = [bandit.pull(a)]\n",
    "\n",
    "        # solve the for arm index\n",
    "        past_mean = np.mean(reward_history[a])\n",
    "        RHS_ratio = (math.log(1 + (a + 1) * (math.log(a + 1) ** 2)) / len(reward_history[a]))\n",
    "        \n",
    "        mu = cp.Variable()\n",
    "        objective = cp.Maximize(mu)\n",
    "        constraints = [\n",
    "            mu >= 0, \n",
    "            mu <= 1, \n",
    "            past_mean * cp.log(past_mean) - past_mean * cp.log(mu) + (1 - past_mean) * cp.log(1 - past_mean) - (1 - past_mean) * cp.log(1 - mu) <= RHS_ratio\n",
    "        ]\n",
    "        prob = cp.Problem(objective, constraints)\n",
    "        prob.solve()\n",
    "        arm_UCB[a] = mu.value\n",
    "\n",
    "    for t in range(K, n):\n",
    "        arm_to_pull = np.argmax(arm_UCB)\n",
    "        reward_history[arm_to_pull].append(bandit.pull(arm_to_pull))\n",
    "        \n",
    "        # solve the for arm index\n",
    "        past_mean = np.mean(reward_history[arm_to_pull])\n",
    "        RHS_ratio = (math.log(1 + (t + 1) * (math.log(t + 1) ** 2)) / len(reward_history[arm_to_pull]))\n",
    "\n",
    "        mu = cp.Variable()\n",
    "        objective = cp.Maximize(mu)\n",
    "        constraints = [\n",
    "            mu >= 0, \n",
    "            mu <= 1, \n",
    "            past_mean * cp.log(past_mean) - past_mean * cp.log(mu) + (1 - past_mean) * cp.log(1 - past_mean) - (1 - past_mean) * cp.log(1 - mu) <= RHS_ratio\n",
    "        ]\n",
    "        prob = cp.Problem(objective, constraints)\n",
    "        prob.solve()\n",
    "        arm_UCB[arm_to_pull] = mu.value"
   ]
  },
  {
   "cell_type": "code",
   "execution_count": 13,
   "metadata": {},
   "outputs": [
    {
     "ename": "KeyboardInterrupt",
     "evalue": "",
     "output_type": "error",
     "traceback": [
      "\u001b[1;31m---------------------------------------------------------------------------\u001b[0m",
      "\u001b[1;31mKeyboardInterrupt\u001b[0m                         Traceback (most recent call last)",
      "Cell \u001b[1;32mIn[13], line 20\u001b[0m\n\u001b[0;32m     17\u001b[0m     Anytime_regret_log\u001b[38;5;241m.\u001b[39mappend(bandit\u001b[38;5;241m.\u001b[39mregret()[\u001b[38;5;124m\"\u001b[39m\u001b[38;5;124mpseudo\u001b[39m\u001b[38;5;124m\"\u001b[39m])\n\u001b[0;32m     19\u001b[0m     bandit \u001b[38;5;241m=\u001b[39m BernoulliBandit([mu_1, mu_1\u001b[38;5;241m+\u001b[39mgap], seed)\n\u001b[1;32m---> 20\u001b[0m     \u001b[43mKLUCB\u001b[49m\u001b[43m(\u001b[49m\u001b[43mbandit\u001b[49m\u001b[43m,\u001b[49m\u001b[43m \u001b[49m\u001b[43mn\u001b[49m\u001b[43m,\u001b[49m\u001b[43m \u001b[49m\u001b[43mseed\u001b[49m\u001b[43m)\u001b[49m\n\u001b[0;32m     21\u001b[0m     KL_regret_log\u001b[38;5;241m.\u001b[39mappend(bandit\u001b[38;5;241m.\u001b[39mregret()[\u001b[38;5;124m\"\u001b[39m\u001b[38;5;124mpseudo\u001b[39m\u001b[38;5;124m\"\u001b[39m])\n\u001b[0;32m     23\u001b[0m Anytime_avg_regret_log\u001b[38;5;241m.\u001b[39mappend(np\u001b[38;5;241m.\u001b[39mmean(Anytime_regret_log))\n",
      "Cell \u001b[1;32mIn[12], line 80\u001b[0m, in \u001b[0;36mKLUCB\u001b[1;34m(bandit, n, seed)\u001b[0m\n\u001b[0;32m     74\u001b[0m constraints \u001b[38;5;241m=\u001b[39m [\n\u001b[0;32m     75\u001b[0m     mu \u001b[38;5;241m>\u001b[39m\u001b[38;5;241m=\u001b[39m \u001b[38;5;241m0\u001b[39m, \n\u001b[0;32m     76\u001b[0m     mu \u001b[38;5;241m<\u001b[39m\u001b[38;5;241m=\u001b[39m \u001b[38;5;241m1\u001b[39m, \n\u001b[0;32m     77\u001b[0m     past_mean \u001b[38;5;241m*\u001b[39m cp\u001b[38;5;241m.\u001b[39mlog(past_mean) \u001b[38;5;241m-\u001b[39m past_mean \u001b[38;5;241m*\u001b[39m cp\u001b[38;5;241m.\u001b[39mlog(mu) \u001b[38;5;241m+\u001b[39m (\u001b[38;5;241m1\u001b[39m \u001b[38;5;241m-\u001b[39m past_mean) \u001b[38;5;241m*\u001b[39m cp\u001b[38;5;241m.\u001b[39mlog(\u001b[38;5;241m1\u001b[39m \u001b[38;5;241m-\u001b[39m past_mean) \u001b[38;5;241m-\u001b[39m (\u001b[38;5;241m1\u001b[39m \u001b[38;5;241m-\u001b[39m past_mean) \u001b[38;5;241m*\u001b[39m cp\u001b[38;5;241m.\u001b[39mlog(\u001b[38;5;241m1\u001b[39m \u001b[38;5;241m-\u001b[39m mu) \u001b[38;5;241m<\u001b[39m\u001b[38;5;241m=\u001b[39m RHS_ratio\n\u001b[0;32m     78\u001b[0m ]\n\u001b[0;32m     79\u001b[0m prob \u001b[38;5;241m=\u001b[39m cp\u001b[38;5;241m.\u001b[39mProblem(objective, constraints)\n\u001b[1;32m---> 80\u001b[0m \u001b[43mprob\u001b[49m\u001b[38;5;241;43m.\u001b[39;49m\u001b[43msolve\u001b[49m\u001b[43m(\u001b[49m\u001b[43m)\u001b[49m\n\u001b[0;32m     81\u001b[0m arm_UCB[arm_to_pull] \u001b[38;5;241m=\u001b[39m mu\u001b[38;5;241m.\u001b[39mvalue\n",
      "File \u001b[1;32mc:\\Users\\Wenhao\\miniconda3\\envs\\cse-541\\lib\\site-packages\\cvxpy\\problems\\problem.py:503\u001b[0m, in \u001b[0;36mProblem.solve\u001b[1;34m(self, *args, **kwargs)\u001b[0m\n\u001b[0;32m    501\u001b[0m \u001b[38;5;28;01melse\u001b[39;00m:\n\u001b[0;32m    502\u001b[0m     solve_func \u001b[38;5;241m=\u001b[39m Problem\u001b[38;5;241m.\u001b[39m_solve\n\u001b[1;32m--> 503\u001b[0m \u001b[38;5;28;01mreturn\u001b[39;00m solve_func(\u001b[38;5;28mself\u001b[39m, \u001b[38;5;241m*\u001b[39margs, \u001b[38;5;241m*\u001b[39m\u001b[38;5;241m*\u001b[39mkwargs)\n",
      "File \u001b[1;32mc:\\Users\\Wenhao\\miniconda3\\envs\\cse-541\\lib\\site-packages\\cvxpy\\problems\\problem.py:1073\u001b[0m, in \u001b[0;36mProblem._solve\u001b[1;34m(self, solver, warm_start, verbose, gp, qcp, requires_grad, enforce_dpp, ignore_dpp, canon_backend, **kwargs)\u001b[0m\n\u001b[0;32m   1070\u001b[0m         \u001b[38;5;28mself\u001b[39m\u001b[38;5;241m.\u001b[39munpack(chain\u001b[38;5;241m.\u001b[39mretrieve(soln))\n\u001b[0;32m   1071\u001b[0m         \u001b[38;5;28;01mreturn\u001b[39;00m \u001b[38;5;28mself\u001b[39m\u001b[38;5;241m.\u001b[39mvalue\n\u001b[1;32m-> 1073\u001b[0m data, solving_chain, inverse_data \u001b[38;5;241m=\u001b[39m \u001b[38;5;28;43mself\u001b[39;49m\u001b[38;5;241;43m.\u001b[39;49m\u001b[43mget_problem_data\u001b[49m\u001b[43m(\u001b[49m\n\u001b[0;32m   1074\u001b[0m \u001b[43m    \u001b[49m\u001b[43msolver\u001b[49m\u001b[43m,\u001b[49m\u001b[43m \u001b[49m\u001b[43mgp\u001b[49m\u001b[43m,\u001b[49m\u001b[43m \u001b[49m\u001b[43menforce_dpp\u001b[49m\u001b[43m,\u001b[49m\u001b[43m \u001b[49m\u001b[43mignore_dpp\u001b[49m\u001b[43m,\u001b[49m\u001b[43m \u001b[49m\u001b[43mverbose\u001b[49m\u001b[43m,\u001b[49m\u001b[43m \u001b[49m\u001b[43mcanon_backend\u001b[49m\u001b[43m,\u001b[49m\u001b[43m \u001b[49m\u001b[43mkwargs\u001b[49m\n\u001b[0;32m   1075\u001b[0m \u001b[43m\u001b[49m\u001b[43m)\u001b[49m\n\u001b[0;32m   1077\u001b[0m \u001b[38;5;28;01mif\u001b[39;00m verbose:\n\u001b[0;32m   1078\u001b[0m     \u001b[38;5;28mprint\u001b[39m(_NUM_SOLVER_STR)\n",
      "File \u001b[1;32mc:\\Users\\Wenhao\\miniconda3\\envs\\cse-541\\lib\\site-packages\\cvxpy\\problems\\problem.py:696\u001b[0m, in \u001b[0;36mProblem.get_problem_data\u001b[1;34m(self, solver, gp, enforce_dpp, ignore_dpp, verbose, canon_backend, solver_opts)\u001b[0m\n\u001b[0;32m    693\u001b[0m     s\u001b[38;5;241m.\u001b[39mLOGGER\u001b[38;5;241m.\u001b[39minfo(\n\u001b[0;32m    694\u001b[0m              \u001b[38;5;124m'\u001b[39m\u001b[38;5;124mCompiling problem (target solver=\u001b[39m\u001b[38;5;132;01m%s\u001b[39;00m\u001b[38;5;124m).\u001b[39m\u001b[38;5;124m'\u001b[39m, solver_name)\n\u001b[0;32m    695\u001b[0m     s\u001b[38;5;241m.\u001b[39mLOGGER\u001b[38;5;241m.\u001b[39minfo(\u001b[38;5;124m'\u001b[39m\u001b[38;5;124mReduction chain: \u001b[39m\u001b[38;5;132;01m%s\u001b[39;00m\u001b[38;5;124m'\u001b[39m, reduction_chain_str)\n\u001b[1;32m--> 696\u001b[0m data, inverse_data \u001b[38;5;241m=\u001b[39m \u001b[43msolving_chain\u001b[49m\u001b[38;5;241;43m.\u001b[39;49m\u001b[43mapply\u001b[49m\u001b[43m(\u001b[49m\u001b[38;5;28;43mself\u001b[39;49m\u001b[43m,\u001b[49m\u001b[43m \u001b[49m\u001b[43mverbose\u001b[49m\u001b[43m)\u001b[49m\n\u001b[0;32m    697\u001b[0m safe_to_cache \u001b[38;5;241m=\u001b[39m (\n\u001b[0;32m    698\u001b[0m     \u001b[38;5;28misinstance\u001b[39m(data, \u001b[38;5;28mdict\u001b[39m)\n\u001b[0;32m    699\u001b[0m     \u001b[38;5;129;01mand\u001b[39;00m s\u001b[38;5;241m.\u001b[39mPARAM_PROB \u001b[38;5;129;01min\u001b[39;00m data\n\u001b[0;32m    700\u001b[0m     \u001b[38;5;129;01mand\u001b[39;00m \u001b[38;5;129;01mnot\u001b[39;00m \u001b[38;5;28many\u001b[39m(\u001b[38;5;28misinstance\u001b[39m(reduction, EvalParams)\n\u001b[0;32m    701\u001b[0m                 \u001b[38;5;28;01mfor\u001b[39;00m reduction \u001b[38;5;129;01min\u001b[39;00m solving_chain\u001b[38;5;241m.\u001b[39mreductions)\n\u001b[0;32m    702\u001b[0m )\n\u001b[0;32m    703\u001b[0m \u001b[38;5;28mself\u001b[39m\u001b[38;5;241m.\u001b[39m_compilation_time \u001b[38;5;241m=\u001b[39m time\u001b[38;5;241m.\u001b[39mtime() \u001b[38;5;241m-\u001b[39m start\n",
      "File \u001b[1;32mc:\\Users\\Wenhao\\miniconda3\\envs\\cse-541\\lib\\site-packages\\cvxpy\\reductions\\chain.py:76\u001b[0m, in \u001b[0;36mChain.apply\u001b[1;34m(self, problem, verbose)\u001b[0m\n\u001b[0;32m     74\u001b[0m     \u001b[38;5;28;01mif\u001b[39;00m verbose:\n\u001b[0;32m     75\u001b[0m         s\u001b[38;5;241m.\u001b[39mLOGGER\u001b[38;5;241m.\u001b[39minfo(\u001b[38;5;124m'\u001b[39m\u001b[38;5;124mApplying reduction \u001b[39m\u001b[38;5;132;01m%s\u001b[39;00m\u001b[38;5;124m'\u001b[39m, \u001b[38;5;28mtype\u001b[39m(r)\u001b[38;5;241m.\u001b[39m\u001b[38;5;18m__name__\u001b[39m)\n\u001b[1;32m---> 76\u001b[0m     problem, inv \u001b[38;5;241m=\u001b[39m \u001b[43mr\u001b[49m\u001b[38;5;241;43m.\u001b[39;49m\u001b[43mapply\u001b[49m\u001b[43m(\u001b[49m\u001b[43mproblem\u001b[49m\u001b[43m)\u001b[49m\n\u001b[0;32m     77\u001b[0m     inverse_data\u001b[38;5;241m.\u001b[39mappend(inv)\n\u001b[0;32m     78\u001b[0m \u001b[38;5;28;01mreturn\u001b[39;00m problem, inverse_data\n",
      "File \u001b[1;32mc:\\Users\\Wenhao\\miniconda3\\envs\\cse-541\\lib\\site-packages\\cvxpy\\reductions\\solvers\\conic_solvers\\conic_solver.py:355\u001b[0m, in \u001b[0;36mConicSolver.apply\u001b[1;34m(self, problem)\u001b[0m\n\u001b[0;32m    344\u001b[0m \u001b[38;5;250m\u001b[39m\u001b[38;5;124;03m\"\"\"Returns a new problem and data for inverting the new solution.\u001b[39;00m\n\u001b[0;32m    345\u001b[0m \n\u001b[0;32m    346\u001b[0m \u001b[38;5;124;03mReturns\u001b[39;00m\n\u001b[1;32m   (...)\u001b[0m\n\u001b[0;32m    349\u001b[0m \u001b[38;5;124;03m    (dict of arguments needed for the solver, inverse data)\u001b[39;00m\n\u001b[0;32m    350\u001b[0m \u001b[38;5;124;03m\"\"\"\u001b[39;00m\n\u001b[0;32m    352\u001b[0m \u001b[38;5;66;03m# This is a reference implementation following SCS conventions\u001b[39;00m\n\u001b[0;32m    353\u001b[0m \u001b[38;5;66;03m# Implementations for other solvers may amend or override the implementation entirely\u001b[39;00m\n\u001b[1;32m--> 355\u001b[0m problem, data, inv_data \u001b[38;5;241m=\u001b[39m \u001b[38;5;28;43mself\u001b[39;49m\u001b[38;5;241;43m.\u001b[39;49m\u001b[43m_prepare_data_and_inv_data\u001b[49m\u001b[43m(\u001b[49m\u001b[43mproblem\u001b[49m\u001b[43m)\u001b[49m\n\u001b[0;32m    357\u001b[0m \u001b[38;5;66;03m# Apply parameter values.\u001b[39;00m\n\u001b[0;32m    358\u001b[0m \u001b[38;5;66;03m# Obtain A, b such that Ax + s = b, s \\in cones.\u001b[39;00m\n\u001b[0;32m    359\u001b[0m \u001b[38;5;28;01mif\u001b[39;00m problem\u001b[38;5;241m.\u001b[39mP \u001b[38;5;129;01mis\u001b[39;00m \u001b[38;5;28;01mNone\u001b[39;00m:\n",
      "File \u001b[1;32mc:\\Users\\Wenhao\\miniconda3\\envs\\cse-541\\lib\\site-packages\\cvxpy\\reductions\\solvers\\conic_solvers\\conic_solver.py:332\u001b[0m, in \u001b[0;36mConicSolver._prepare_data_and_inv_data\u001b[1;34m(self, problem)\u001b[0m\n\u001b[0;32m    321\u001b[0m \u001b[38;5;66;03m# Format constraints\u001b[39;00m\n\u001b[0;32m    322\u001b[0m \u001b[38;5;66;03m#\u001b[39;00m\n\u001b[0;32m    323\u001b[0m \u001b[38;5;66;03m# By default cvxpy follows the SCS convention, which requires\u001b[39;00m\n\u001b[1;32m   (...)\u001b[0m\n\u001b[0;32m    329\u001b[0m \u001b[38;5;66;03m# 5. exponential\u001b[39;00m\n\u001b[0;32m    330\u001b[0m \u001b[38;5;66;03m# 6. three-dimensional power cones\u001b[39;00m\n\u001b[0;32m    331\u001b[0m \u001b[38;5;28;01mif\u001b[39;00m \u001b[38;5;129;01mnot\u001b[39;00m problem\u001b[38;5;241m.\u001b[39mformatted:\n\u001b[1;32m--> 332\u001b[0m     problem \u001b[38;5;241m=\u001b[39m \u001b[38;5;28;43mself\u001b[39;49m\u001b[38;5;241;43m.\u001b[39;49m\u001b[43mformat_constraints\u001b[49m\u001b[43m(\u001b[49m\u001b[43mproblem\u001b[49m\u001b[43m,\u001b[49m\u001b[43m \u001b[49m\u001b[38;5;28;43mself\u001b[39;49m\u001b[38;5;241;43m.\u001b[39;49m\u001b[43mEXP_CONE_ORDER\u001b[49m\u001b[43m)\u001b[49m\n\u001b[0;32m    333\u001b[0m data[s\u001b[38;5;241m.\u001b[39mPARAM_PROB] \u001b[38;5;241m=\u001b[39m problem\n\u001b[0;32m    334\u001b[0m data[\u001b[38;5;28mself\u001b[39m\u001b[38;5;241m.\u001b[39mDIMS] \u001b[38;5;241m=\u001b[39m problem\u001b[38;5;241m.\u001b[39mcone_dims\n",
      "File \u001b[1;32mc:\\Users\\Wenhao\\miniconda3\\envs\\cse-541\\lib\\site-packages\\cvxpy\\reductions\\solvers\\conic_solvers\\conic_solver.py:241\u001b[0m, in \u001b[0;36mConicSolver.format_constraints\u001b[1;34m(self, problem, exp_cone_order)\u001b[0m\n\u001b[0;32m    233\u001b[0m         space_mat \u001b[38;5;241m=\u001b[39m ConicSolver\u001b[38;5;241m.\u001b[39mget_spacing_matrix(\n\u001b[0;32m    234\u001b[0m             shape\u001b[38;5;241m=\u001b[39m(total_height, arg\u001b[38;5;241m.\u001b[39msize),\n\u001b[0;32m    235\u001b[0m             spacing\u001b[38;5;241m=\u001b[39m\u001b[38;5;28mlen\u001b[39m(exp_cone_order) \u001b[38;5;241m-\u001b[39m \u001b[38;5;241m1\u001b[39m,\n\u001b[1;32m   (...)\u001b[0m\n\u001b[0;32m    238\u001b[0m             offset\u001b[38;5;241m=\u001b[39mexp_cone_order[i],\n\u001b[0;32m    239\u001b[0m         )\n\u001b[0;32m    240\u001b[0m         arg_mats\u001b[38;5;241m.\u001b[39mappend(space_mat)\n\u001b[1;32m--> 241\u001b[0m     restruct_mat\u001b[38;5;241m.\u001b[39mappend(\u001b[43msp\u001b[49m\u001b[38;5;241;43m.\u001b[39;49m\u001b[43mhstack\u001b[49m\u001b[43m(\u001b[49m\u001b[43marg_mats\u001b[49m\u001b[43m)\u001b[49m)\n\u001b[0;32m    242\u001b[0m \u001b[38;5;28;01melif\u001b[39;00m \u001b[38;5;28mtype\u001b[39m(constr) \u001b[38;5;241m==\u001b[39m PowCone3D:\n\u001b[0;32m    243\u001b[0m     arg_mats \u001b[38;5;241m=\u001b[39m []\n",
      "File \u001b[1;32mc:\\Users\\Wenhao\\miniconda3\\envs\\cse-541\\lib\\site-packages\\scipy\\sparse\\_construct.py:733\u001b[0m, in \u001b[0;36mhstack\u001b[1;34m(blocks, format, dtype)\u001b[0m\n\u001b[0;32m    731\u001b[0m     \u001b[38;5;28;01mreturn\u001b[39;00m _block([blocks], \u001b[38;5;28mformat\u001b[39m, dtype)\n\u001b[0;32m    732\u001b[0m \u001b[38;5;28;01melse\u001b[39;00m:\n\u001b[1;32m--> 733\u001b[0m     \u001b[38;5;28;01mreturn\u001b[39;00m \u001b[43m_block\u001b[49m\u001b[43m(\u001b[49m\u001b[43m[\u001b[49m\u001b[43mblocks\u001b[49m\u001b[43m]\u001b[49m\u001b[43m,\u001b[49m\u001b[43m \u001b[49m\u001b[38;5;28;43mformat\u001b[39;49m\u001b[43m,\u001b[49m\u001b[43m \u001b[49m\u001b[43mdtype\u001b[49m\u001b[43m,\u001b[49m\u001b[43m \u001b[49m\u001b[43mreturn_spmatrix\u001b[49m\u001b[38;5;241;43m=\u001b[39;49m\u001b[38;5;28;43;01mTrue\u001b[39;49;00m\u001b[43m)\u001b[49m\n",
      "File \u001b[1;32mc:\\Users\\Wenhao\\miniconda3\\envs\\cse-541\\lib\\site-packages\\scipy\\sparse\\_construct.py:925\u001b[0m, in \u001b[0;36m_block\u001b[1;34m(blocks, format, dtype, return_spmatrix)\u001b[0m\n\u001b[0;32m    922\u001b[0m     blocks \u001b[38;5;241m=\u001b[39m np\u001b[38;5;241m.\u001b[39masarray(blocks, dtype\u001b[38;5;241m=\u001b[39m\u001b[38;5;124m'\u001b[39m\u001b[38;5;124mobject\u001b[39m\u001b[38;5;124m'\u001b[39m)\n\u001b[0;32m    924\u001b[0m \u001b[38;5;66;03m# stack along columns (axis 1):\u001b[39;00m\n\u001b[1;32m--> 925\u001b[0m A \u001b[38;5;241m=\u001b[39m \u001b[43m_compressed_sparse_stack\u001b[49m\u001b[43m(\u001b[49m\u001b[43mblocks\u001b[49m\u001b[43m[\u001b[49m\u001b[38;5;241;43m0\u001b[39;49m\u001b[43m,\u001b[49m\u001b[43m \u001b[49m\u001b[43m:\u001b[49m\u001b[43m]\u001b[49m\u001b[43m,\u001b[49m\u001b[43m \u001b[49m\u001b[38;5;241;43m1\u001b[39;49m\u001b[43m,\u001b[49m\u001b[43m \u001b[49m\u001b[43mreturn_spmatrix\u001b[49m\u001b[43m)\u001b[49m\n\u001b[0;32m    926\u001b[0m \u001b[38;5;28;01mif\u001b[39;00m dtype \u001b[38;5;129;01mis\u001b[39;00m \u001b[38;5;129;01mnot\u001b[39;00m \u001b[38;5;28;01mNone\u001b[39;00m:\n\u001b[0;32m    927\u001b[0m     A \u001b[38;5;241m=\u001b[39m A\u001b[38;5;241m.\u001b[39mastype(dtype)\n",
      "File \u001b[1;32mc:\\Users\\Wenhao\\miniconda3\\envs\\cse-541\\lib\\site-packages\\scipy\\sparse\\_construct.py:609\u001b[0m, in \u001b[0;36m_compressed_sparse_stack\u001b[1;34m(blocks, axis, return_spmatrix)\u001b[0m\n\u001b[0;32m    607\u001b[0m indices[sum_indices:sum_indices\u001b[38;5;241m+\u001b[39mb\u001b[38;5;241m.\u001b[39mindices\u001b[38;5;241m.\u001b[39msize] \u001b[38;5;241m=\u001b[39m b\u001b[38;5;241m.\u001b[39mindices\n\u001b[0;32m    608\u001b[0m sum_indices \u001b[38;5;241m+\u001b[39m\u001b[38;5;241m=\u001b[39m b\u001b[38;5;241m.\u001b[39mindices\u001b[38;5;241m.\u001b[39msize\n\u001b[1;32m--> 609\u001b[0m idxs \u001b[38;5;241m=\u001b[39m \u001b[38;5;28mslice\u001b[39m(sum_dim, sum_dim \u001b[38;5;241m+\u001b[39m \u001b[43mb\u001b[49m\u001b[38;5;241;43m.\u001b[39;49m\u001b[43mshape\u001b[49m[axis])\n\u001b[0;32m    610\u001b[0m indptr[idxs] \u001b[38;5;241m=\u001b[39m b\u001b[38;5;241m.\u001b[39mindptr[:\u001b[38;5;241m-\u001b[39m\u001b[38;5;241m1\u001b[39m]\n\u001b[0;32m    611\u001b[0m indptr[idxs] \u001b[38;5;241m+\u001b[39m\u001b[38;5;241m=\u001b[39m last_indptr\n",
      "File \u001b[1;32mc:\\Users\\Wenhao\\miniconda3\\envs\\cse-541\\lib\\site-packages\\scipy\\sparse\\_matrix.py:64\u001b[0m, in \u001b[0;36mspmatrix.get_shape\u001b[1;34m(self)\u001b[0m\n\u001b[0;32m     61\u001b[0m     new_self \u001b[38;5;241m=\u001b[39m \u001b[38;5;28mself\u001b[39m\u001b[38;5;241m.\u001b[39mreshape(shape, copy\u001b[38;5;241m=\u001b[39m\u001b[38;5;28;01mFalse\u001b[39;00m)\u001b[38;5;241m.\u001b[39masformat(\u001b[38;5;28mself\u001b[39m\u001b[38;5;241m.\u001b[39mformat)\n\u001b[0;32m     62\u001b[0m     \u001b[38;5;28mself\u001b[39m\u001b[38;5;241m.\u001b[39m\u001b[38;5;18m__dict__\u001b[39m \u001b[38;5;241m=\u001b[39m new_self\u001b[38;5;241m.\u001b[39m\u001b[38;5;18m__dict__\u001b[39m\n\u001b[1;32m---> 64\u001b[0m \u001b[38;5;28;01mdef\u001b[39;00m \u001b[38;5;21mget_shape\u001b[39m(\u001b[38;5;28mself\u001b[39m):\n\u001b[0;32m     65\u001b[0m \u001b[38;5;250m    \u001b[39m\u001b[38;5;124;03m\"\"\"Get the shape of the matrix\"\"\"\u001b[39;00m\n\u001b[0;32m     66\u001b[0m     \u001b[38;5;28;01mreturn\u001b[39;00m \u001b[38;5;28mself\u001b[39m\u001b[38;5;241m.\u001b[39m_shape\n",
      "File \u001b[1;32m_pydevd_bundle/pydevd_cython.pyx:1457\u001b[0m, in \u001b[0;36m_pydevd_bundle.pydevd_cython.SafeCallWrapper.__call__\u001b[1;34m()\u001b[0m\n",
      "File \u001b[1;32m_pydevd_bundle/pydevd_cython.pyx:1758\u001b[0m, in \u001b[0;36m_pydevd_bundle.pydevd_cython.ThreadTracer.__call__\u001b[1;34m()\u001b[0m\n",
      "File \u001b[1;32mc:\\Users\\Wenhao\\miniconda3\\envs\\cse-541\\lib\\site-packages\\debugpy\\_vendored\\pydevd\\_pydev_bundle\\pydev_is_thread_alive.py:9\u001b[0m, in \u001b[0;36mis_thread_alive\u001b[1;34m(t)\u001b[0m\n\u001b[0;32m      6\u001b[0m _temp \u001b[38;5;241m=\u001b[39m threading\u001b[38;5;241m.\u001b[39mThread()\n\u001b[0;32m      7\u001b[0m \u001b[38;5;28;01mif\u001b[39;00m \u001b[38;5;28mhasattr\u001b[39m(_temp, \u001b[38;5;124m'\u001b[39m\u001b[38;5;124m_is_stopped\u001b[39m\u001b[38;5;124m'\u001b[39m):  \u001b[38;5;66;03m# Python 3.x has this\u001b[39;00m\n\u001b[1;32m----> 9\u001b[0m     \u001b[38;5;28;01mdef\u001b[39;00m \u001b[38;5;21mis_thread_alive\u001b[39m(t):\n\u001b[0;32m     10\u001b[0m         \u001b[38;5;28;01mreturn\u001b[39;00m \u001b[38;5;129;01mnot\u001b[39;00m t\u001b[38;5;241m.\u001b[39m_is_stopped\n\u001b[0;32m     12\u001b[0m \u001b[38;5;28;01melif\u001b[39;00m \u001b[38;5;28mhasattr\u001b[39m(_temp, \u001b[38;5;124m'\u001b[39m\u001b[38;5;124m_Thread__stopped\u001b[39m\u001b[38;5;124m'\u001b[39m):  \u001b[38;5;66;03m# Python 2.x has this\u001b[39;00m\n",
      "\u001b[1;31mKeyboardInterrupt\u001b[0m: "
     ]
    }
   ],
   "source": [
    "from bandit_instance import BernoulliBandit\n",
    "\n",
    "step = 0.005\n",
    "gaps = np.arange(0.01, 0.5 + step, step)\n",
    "mu_1 = 0.5\n",
    "n = 10000\n",
    "N = 5000\n",
    "Anytime_avg_regret_log = []\n",
    "KL_avg_regret_log = []\n",
    "\n",
    "for gap in gaps:\n",
    "    Anytime_regret_log = []\n",
    "    KL_regret_log = []\n",
    "    for seed in range(N):\n",
    "        bandit = BernoulliBandit([mu_1, mu_1+gap], seed)\n",
    "        UCBAnytime(bandit, n, seed)\n",
    "        Anytime_regret_log.append(bandit.regret()[\"pseudo\"])\n",
    "\n",
    "        bandit = BernoulliBandit([mu_1, mu_1+gap], seed)\n",
    "        KLUCB(bandit, n, seed)\n",
    "        KL_regret_log.append(bandit.regret()[\"pseudo\"])\n",
    "\n",
    "    Anytime_avg_regret_log.append(np.mean(Anytime_regret_log))\n",
    "    KL_avg_regret_log.append(np.mean(KL_regret_log))\n",
    "    # print(f\"average regret is {avg_regret_log[-1]}\")"
   ]
  },
  {
   "cell_type": "code",
   "execution_count": 6,
   "metadata": {},
   "outputs": [
    {
     "data": {
      "text/plain": [
       "[99.98999999999978]"
      ]
     },
     "execution_count": 6,
     "metadata": {},
     "output_type": "execute_result"
    }
   ],
   "source": [
    "Anytime_regret_log"
   ]
  }
 ],
 "metadata": {
  "kernelspec": {
   "display_name": "cse-541",
   "language": "python",
   "name": "python3"
  },
  "language_info": {
   "codemirror_mode": {
    "name": "ipython",
    "version": 3
   },
   "file_extension": ".py",
   "mimetype": "text/x-python",
   "name": "python",
   "nbconvert_exporter": "python",
   "pygments_lexer": "ipython3",
   "version": "3.10.8"
  }
 },
 "nbformat": 4,
 "nbformat_minor": 2
}
